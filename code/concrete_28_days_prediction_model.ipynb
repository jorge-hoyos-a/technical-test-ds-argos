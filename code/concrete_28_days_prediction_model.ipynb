{
 "cells": [
  {
   "cell_type": "markdown",
   "id": "36e2c275",
   "metadata": {},
   "source": [
    "#### Dependencies"
   ]
  },
  {
   "cell_type": "code",
   "execution_count": 1,
   "id": "c1884558",
   "metadata": {},
   "outputs": [],
   "source": [
    "import pandas as pd\n",
    "import xgboost as xgb\n",
    "import matplotlib.pyplot as plt\n",
    "from sklearn.model_selection import GridSearchCV\n",
    "from sklearn.linear_model import Ridge\n",
    "from sklearn.ensemble import GradientBoostingRegressor\n",
    "from sklearn.ensemble import RandomForestRegressor\n",
    "from sklearn.model_selection import train_test_split\n",
    "from sklearn.metrics import root_mean_squared_error, mean_squared_error, r2_score, mean_absolute_error\n",
    "\n",
    "from config.config_file import PATH_CONCRETE_28_DAYS_SCALED"
   ]
  },
  {
   "cell_type": "markdown",
   "id": "705caaa7",
   "metadata": {},
   "source": [
    "#### Creation of the dataframe for concrete age 28 scaled"
   ]
  },
  {
   "cell_type": "code",
   "execution_count": 2,
   "id": "908feb27",
   "metadata": {},
   "outputs": [
    {
     "data": {
      "text/html": [
       "<div>\n",
       "<style scoped>\n",
       "    .dataframe tbody tr th:only-of-type {\n",
       "        vertical-align: middle;\n",
       "    }\n",
       "\n",
       "    .dataframe tbody tr th {\n",
       "        vertical-align: top;\n",
       "    }\n",
       "\n",
       "    .dataframe thead th {\n",
       "        text-align: right;\n",
       "    }\n",
       "</style>\n",
       "<table border=\"1\" class=\"dataframe\">\n",
       "  <thead>\n",
       "    <tr style=\"text-align: right;\">\n",
       "      <th></th>\n",
       "      <th>cement_kg</th>\n",
       "      <th>scm1_kg</th>\n",
       "      <th>scm2_kg</th>\n",
       "      <th>water_kg</th>\n",
       "      <th>additive_kg</th>\n",
       "      <th>aggregate_coarse_kg</th>\n",
       "      <th>aggregate_fine_kg</th>\n",
       "      <th>age_days</th>\n",
       "      <th>compressive_strength_mpa</th>\n",
       "    </tr>\n",
       "  </thead>\n",
       "  <tbody>\n",
       "    <tr>\n",
       "      <th>0</th>\n",
       "      <td>2.626147</td>\n",
       "      <td>-0.983607</td>\n",
       "      <td>-0.949284</td>\n",
       "      <td>-1.090769</td>\n",
       "      <td>-0.834540</td>\n",
       "      <td>1.002843</td>\n",
       "      <td>-1.210075</td>\n",
       "      <td>0.0</td>\n",
       "      <td>2.942558</td>\n",
       "    </tr>\n",
       "    <tr>\n",
       "      <th>1</th>\n",
       "      <td>2.626147</td>\n",
       "      <td>-0.983607</td>\n",
       "      <td>-0.949284</td>\n",
       "      <td>-1.090769</td>\n",
       "      <td>-0.834540</td>\n",
       "      <td>1.182048</td>\n",
       "      <td>-1.210075</td>\n",
       "      <td>0.0</td>\n",
       "      <td>1.710839</td>\n",
       "    </tr>\n",
       "    <tr>\n",
       "      <th>2</th>\n",
       "      <td>1.095739</td>\n",
       "      <td>0.099347</td>\n",
       "      <td>-0.949284</td>\n",
       "      <td>2.327744</td>\n",
       "      <td>-1.298730</td>\n",
       "      <td>-0.287435</td>\n",
       "      <td>-2.332840</td>\n",
       "      <td>0.0</td>\n",
       "      <td>-0.020465</td>\n",
       "    </tr>\n",
       "    <tr>\n",
       "      <th>3</th>\n",
       "      <td>0.005324</td>\n",
       "      <td>0.315937</td>\n",
       "      <td>-0.949284</td>\n",
       "      <td>2.327744</td>\n",
       "      <td>-1.298730</td>\n",
       "      <td>-0.287435</td>\n",
       "      <td>-1.292229</td>\n",
       "      <td>0.0</td>\n",
       "      <td>0.619700</td>\n",
       "    </tr>\n",
       "    <tr>\n",
       "      <th>4</th>\n",
       "      <td>2.004419</td>\n",
       "      <td>-0.983607</td>\n",
       "      <td>-0.949284</td>\n",
       "      <td>2.327744</td>\n",
       "      <td>-1.298730</td>\n",
       "      <td>-0.287435</td>\n",
       "      <td>-2.332840</td>\n",
       "      <td>0.0</td>\n",
       "      <td>0.172950</td>\n",
       "    </tr>\n",
       "    <tr>\n",
       "      <th>...</th>\n",
       "      <td>...</td>\n",
       "      <td>...</td>\n",
       "      <td>...</td>\n",
       "      <td>...</td>\n",
       "      <td>...</td>\n",
       "      <td>...</td>\n",
       "      <td>...</td>\n",
       "      <td>...</td>\n",
       "      <td>...</td>\n",
       "    </tr>\n",
       "    <tr>\n",
       "      <th>420</th>\n",
       "      <td>0.104801</td>\n",
       "      <td>0.338737</td>\n",
       "      <td>0.415805</td>\n",
       "      <td>-0.179165</td>\n",
       "      <td>0.353786</td>\n",
       "      <td>-1.026955</td>\n",
       "      <td>0.053720</td>\n",
       "      <td>0.0</td>\n",
       "      <td>0.512858</td>\n",
       "    </tr>\n",
       "    <tr>\n",
       "      <th>421</th>\n",
       "      <td>0.542880</td>\n",
       "      <td>-0.983607</td>\n",
       "      <td>0.798271</td>\n",
       "      <td>0.670283</td>\n",
       "      <td>0.632300</td>\n",
       "      <td>-1.650590</td>\n",
       "      <td>0.671240</td>\n",
       "      <td>0.0</td>\n",
       "      <td>-0.379048</td>\n",
       "    </tr>\n",
       "    <tr>\n",
       "      <th>422</th>\n",
       "      <td>-1.118569</td>\n",
       "      <td>0.605485</td>\n",
       "      <td>0.692450</td>\n",
       "      <td>0.499358</td>\n",
       "      <td>-0.166107</td>\n",
       "      <td>-0.760537</td>\n",
       "      <td>0.213919</td>\n",
       "      <td>0.0</td>\n",
       "      <td>-0.888252</td>\n",
       "    </tr>\n",
       "    <tr>\n",
       "      <th>423</th>\n",
       "      <td>-1.017180</td>\n",
       "      <td>1.144682</td>\n",
       "      <td>-0.949284</td>\n",
       "      <td>-0.386348</td>\n",
       "      <td>0.799408</td>\n",
       "      <td>0.400713</td>\n",
       "      <td>0.335780</td>\n",
       "      <td>0.0</td>\n",
       "      <td>-0.270891</td>\n",
       "    </tr>\n",
       "    <tr>\n",
       "      <th>424</th>\n",
       "      <td>-0.043458</td>\n",
       "      <td>0.162044</td>\n",
       "      <td>0.234397</td>\n",
       "      <td>0.908543</td>\n",
       "      <td>0.298083</td>\n",
       "      <td>-1.093859</td>\n",
       "      <td>-0.039388</td>\n",
       "      <td>0.0</td>\n",
       "      <td>-0.295854</td>\n",
       "    </tr>\n",
       "  </tbody>\n",
       "</table>\n",
       "<p>419 rows × 9 columns</p>\n",
       "</div>"
      ],
      "text/plain": [
       "     cement_kg   scm1_kg   scm2_kg  water_kg  additive_kg  \\\n",
       "0     2.626147 -0.983607 -0.949284 -1.090769    -0.834540   \n",
       "1     2.626147 -0.983607 -0.949284 -1.090769    -0.834540   \n",
       "2     1.095739  0.099347 -0.949284  2.327744    -1.298730   \n",
       "3     0.005324  0.315937 -0.949284  2.327744    -1.298730   \n",
       "4     2.004419 -0.983607 -0.949284  2.327744    -1.298730   \n",
       "..         ...       ...       ...       ...          ...   \n",
       "420   0.104801  0.338737  0.415805 -0.179165     0.353786   \n",
       "421   0.542880 -0.983607  0.798271  0.670283     0.632300   \n",
       "422  -1.118569  0.605485  0.692450  0.499358    -0.166107   \n",
       "423  -1.017180  1.144682 -0.949284 -0.386348     0.799408   \n",
       "424  -0.043458  0.162044  0.234397  0.908543     0.298083   \n",
       "\n",
       "     aggregate_coarse_kg  aggregate_fine_kg  age_days  \\\n",
       "0               1.002843          -1.210075       0.0   \n",
       "1               1.182048          -1.210075       0.0   \n",
       "2              -0.287435          -2.332840       0.0   \n",
       "3              -0.287435          -1.292229       0.0   \n",
       "4              -0.287435          -2.332840       0.0   \n",
       "..                   ...                ...       ...   \n",
       "420            -1.026955           0.053720       0.0   \n",
       "421            -1.650590           0.671240       0.0   \n",
       "422            -0.760537           0.213919       0.0   \n",
       "423             0.400713           0.335780       0.0   \n",
       "424            -1.093859          -0.039388       0.0   \n",
       "\n",
       "     compressive_strength_mpa  \n",
       "0                    2.942558  \n",
       "1                    1.710839  \n",
       "2                   -0.020465  \n",
       "3                    0.619700  \n",
       "4                    0.172950  \n",
       "..                        ...  \n",
       "420                  0.512858  \n",
       "421                 -0.379048  \n",
       "422                 -0.888252  \n",
       "423                 -0.270891  \n",
       "424                 -0.295854  \n",
       "\n",
       "[419 rows x 9 columns]"
      ]
     },
     "execution_count": 2,
     "metadata": {},
     "output_type": "execute_result"
    }
   ],
   "source": [
    "df_28_days_scaled = pd.read_csv(PATH_CONCRETE_28_DAYS_SCALED, sep=',', index_col=0)\n",
    "df_28_days_scaled"
   ]
  },
  {
   "cell_type": "markdown",
   "id": "62251f5f",
   "metadata": {},
   "source": [
    "Drop the column \"age_days\" that is not longer useful"
   ]
  },
  {
   "cell_type": "code",
   "execution_count": 3,
   "id": "65b8a53e",
   "metadata": {},
   "outputs": [
    {
     "data": {
      "text/html": [
       "<div>\n",
       "<style scoped>\n",
       "    .dataframe tbody tr th:only-of-type {\n",
       "        vertical-align: middle;\n",
       "    }\n",
       "\n",
       "    .dataframe tbody tr th {\n",
       "        vertical-align: top;\n",
       "    }\n",
       "\n",
       "    .dataframe thead th {\n",
       "        text-align: right;\n",
       "    }\n",
       "</style>\n",
       "<table border=\"1\" class=\"dataframe\">\n",
       "  <thead>\n",
       "    <tr style=\"text-align: right;\">\n",
       "      <th></th>\n",
       "      <th>cement_kg</th>\n",
       "      <th>scm1_kg</th>\n",
       "      <th>scm2_kg</th>\n",
       "      <th>water_kg</th>\n",
       "      <th>additive_kg</th>\n",
       "      <th>aggregate_coarse_kg</th>\n",
       "      <th>aggregate_fine_kg</th>\n",
       "      <th>compressive_strength_mpa</th>\n",
       "    </tr>\n",
       "  </thead>\n",
       "  <tbody>\n",
       "    <tr>\n",
       "      <th>0</th>\n",
       "      <td>2.626147</td>\n",
       "      <td>-0.983607</td>\n",
       "      <td>-0.949284</td>\n",
       "      <td>-1.090769</td>\n",
       "      <td>-0.834540</td>\n",
       "      <td>1.002843</td>\n",
       "      <td>-1.210075</td>\n",
       "      <td>2.942558</td>\n",
       "    </tr>\n",
       "    <tr>\n",
       "      <th>1</th>\n",
       "      <td>2.626147</td>\n",
       "      <td>-0.983607</td>\n",
       "      <td>-0.949284</td>\n",
       "      <td>-1.090769</td>\n",
       "      <td>-0.834540</td>\n",
       "      <td>1.182048</td>\n",
       "      <td>-1.210075</td>\n",
       "      <td>1.710839</td>\n",
       "    </tr>\n",
       "    <tr>\n",
       "      <th>2</th>\n",
       "      <td>1.095739</td>\n",
       "      <td>0.099347</td>\n",
       "      <td>-0.949284</td>\n",
       "      <td>2.327744</td>\n",
       "      <td>-1.298730</td>\n",
       "      <td>-0.287435</td>\n",
       "      <td>-2.332840</td>\n",
       "      <td>-0.020465</td>\n",
       "    </tr>\n",
       "    <tr>\n",
       "      <th>3</th>\n",
       "      <td>0.005324</td>\n",
       "      <td>0.315937</td>\n",
       "      <td>-0.949284</td>\n",
       "      <td>2.327744</td>\n",
       "      <td>-1.298730</td>\n",
       "      <td>-0.287435</td>\n",
       "      <td>-1.292229</td>\n",
       "      <td>0.619700</td>\n",
       "    </tr>\n",
       "    <tr>\n",
       "      <th>4</th>\n",
       "      <td>2.004419</td>\n",
       "      <td>-0.983607</td>\n",
       "      <td>-0.949284</td>\n",
       "      <td>2.327744</td>\n",
       "      <td>-1.298730</td>\n",
       "      <td>-0.287435</td>\n",
       "      <td>-2.332840</td>\n",
       "      <td>0.172950</td>\n",
       "    </tr>\n",
       "    <tr>\n",
       "      <th>...</th>\n",
       "      <td>...</td>\n",
       "      <td>...</td>\n",
       "      <td>...</td>\n",
       "      <td>...</td>\n",
       "      <td>...</td>\n",
       "      <td>...</td>\n",
       "      <td>...</td>\n",
       "      <td>...</td>\n",
       "    </tr>\n",
       "    <tr>\n",
       "      <th>420</th>\n",
       "      <td>0.104801</td>\n",
       "      <td>0.338737</td>\n",
       "      <td>0.415805</td>\n",
       "      <td>-0.179165</td>\n",
       "      <td>0.353786</td>\n",
       "      <td>-1.026955</td>\n",
       "      <td>0.053720</td>\n",
       "      <td>0.512858</td>\n",
       "    </tr>\n",
       "    <tr>\n",
       "      <th>421</th>\n",
       "      <td>0.542880</td>\n",
       "      <td>-0.983607</td>\n",
       "      <td>0.798271</td>\n",
       "      <td>0.670283</td>\n",
       "      <td>0.632300</td>\n",
       "      <td>-1.650590</td>\n",
       "      <td>0.671240</td>\n",
       "      <td>-0.379048</td>\n",
       "    </tr>\n",
       "    <tr>\n",
       "      <th>422</th>\n",
       "      <td>-1.118569</td>\n",
       "      <td>0.605485</td>\n",
       "      <td>0.692450</td>\n",
       "      <td>0.499358</td>\n",
       "      <td>-0.166107</td>\n",
       "      <td>-0.760537</td>\n",
       "      <td>0.213919</td>\n",
       "      <td>-0.888252</td>\n",
       "    </tr>\n",
       "    <tr>\n",
       "      <th>423</th>\n",
       "      <td>-1.017180</td>\n",
       "      <td>1.144682</td>\n",
       "      <td>-0.949284</td>\n",
       "      <td>-0.386348</td>\n",
       "      <td>0.799408</td>\n",
       "      <td>0.400713</td>\n",
       "      <td>0.335780</td>\n",
       "      <td>-0.270891</td>\n",
       "    </tr>\n",
       "    <tr>\n",
       "      <th>424</th>\n",
       "      <td>-0.043458</td>\n",
       "      <td>0.162044</td>\n",
       "      <td>0.234397</td>\n",
       "      <td>0.908543</td>\n",
       "      <td>0.298083</td>\n",
       "      <td>-1.093859</td>\n",
       "      <td>-0.039388</td>\n",
       "      <td>-0.295854</td>\n",
       "    </tr>\n",
       "  </tbody>\n",
       "</table>\n",
       "<p>419 rows × 8 columns</p>\n",
       "</div>"
      ],
      "text/plain": [
       "     cement_kg   scm1_kg   scm2_kg  water_kg  additive_kg  \\\n",
       "0     2.626147 -0.983607 -0.949284 -1.090769    -0.834540   \n",
       "1     2.626147 -0.983607 -0.949284 -1.090769    -0.834540   \n",
       "2     1.095739  0.099347 -0.949284  2.327744    -1.298730   \n",
       "3     0.005324  0.315937 -0.949284  2.327744    -1.298730   \n",
       "4     2.004419 -0.983607 -0.949284  2.327744    -1.298730   \n",
       "..         ...       ...       ...       ...          ...   \n",
       "420   0.104801  0.338737  0.415805 -0.179165     0.353786   \n",
       "421   0.542880 -0.983607  0.798271  0.670283     0.632300   \n",
       "422  -1.118569  0.605485  0.692450  0.499358    -0.166107   \n",
       "423  -1.017180  1.144682 -0.949284 -0.386348     0.799408   \n",
       "424  -0.043458  0.162044  0.234397  0.908543     0.298083   \n",
       "\n",
       "     aggregate_coarse_kg  aggregate_fine_kg  compressive_strength_mpa  \n",
       "0               1.002843          -1.210075                  2.942558  \n",
       "1               1.182048          -1.210075                  1.710839  \n",
       "2              -0.287435          -2.332840                 -0.020465  \n",
       "3              -0.287435          -1.292229                  0.619700  \n",
       "4              -0.287435          -2.332840                  0.172950  \n",
       "..                   ...                ...                       ...  \n",
       "420            -1.026955           0.053720                  0.512858  \n",
       "421            -1.650590           0.671240                 -0.379048  \n",
       "422            -0.760537           0.213919                 -0.888252  \n",
       "423             0.400713           0.335780                 -0.270891  \n",
       "424            -1.093859          -0.039388                 -0.295854  \n",
       "\n",
       "[419 rows x 8 columns]"
      ]
     },
     "execution_count": 3,
     "metadata": {},
     "output_type": "execute_result"
    }
   ],
   "source": [
    "df_28_days_scaled = df_28_days_scaled.drop(labels='age_days', axis=1)\n",
    "df_28_days_scaled"
   ]
  },
  {
   "cell_type": "markdown",
   "id": "0d3eef14",
   "metadata": {},
   "source": [
    "#### Separation of the dataframe into training, validation, and test"
   ]
  },
  {
   "cell_type": "code",
   "execution_count": 4,
   "id": "5e199b8d",
   "metadata": {},
   "outputs": [],
   "source": [
    "X = df_28_days_scaled.drop(labels='compressive_strength_mpa', axis=1)\n",
    "y = df_28_days_scaled['compressive_strength_mpa']\n",
    "\n",
    "X_train, X_temp, y_train, y_temp = train_test_split(X, y, train_size=0.7, random_state=42)\n",
    "X_val, X_test, y_val, y_test = train_test_split(X_temp, y_temp, test_size=0.5, random_state=42)"
   ]
  },
  {
   "cell_type": "code",
   "execution_count": 5,
   "id": "9acfc912",
   "metadata": {},
   "outputs": [
    {
     "name": "stdout",
     "output_type": "stream",
     "text": [
      "Dimensions of training dataset  (X_train: (293, 7), y_train: (293,))\n",
      "Dimensions of testing dataset (X_test: (63, 7), y_test: (63,))\n",
      "Dimensions of validation dataset (X_val: (63, 7), y_val: (63,))\n"
     ]
    }
   ],
   "source": [
    "print(f\"Dimensions of training dataset  (X_train: {X_train.shape}, y_train: {y_train.shape})\")\n",
    "print(f\"Dimensions of testing dataset (X_test: {X_test.shape}, y_test: {y_test.shape})\")\n",
    "print(f\"Dimensions of validation dataset (X_val: {X_val.shape}, y_val: {y_val.shape})\")"
   ]
  },
  {
   "cell_type": "markdown",
   "id": "5206a623",
   "metadata": {},
   "source": [
    "#### **Models for regression**\n",
    "\n",
    "- Random Forest\n",
    "- SVR\n",
    "- XGBoost\n",
    "- Ridge\n",
    "- Lasso\n"
   ]
  },
  {
   "cell_type": "markdown",
   "id": "4f6b2a9b",
   "metadata": {},
   "source": [
    "### Evaluating models' performance using metrics"
   ]
  },
  {
   "cell_type": "markdown",
   "id": "95d29c44",
   "metadata": {},
   "source": [
    "#### Metrics\n",
    "- Root Mean Squared Error (RMSE): It is the square root of the Mean Squared Error. RMSE provides an error measure in the same units as the target variable, making it more interpretable than MSE. It penalizes larger errors more strongly due to the squaring step before averaging.\n",
    "\n",
    "- Mean Squared Error (MSE): It measures the mean squared errors, that is, the average squared difference between the estimated values ​​and the actual values.\n",
    "\n",
    "- R-squared (R2): Also known as coefficient of determination. It provides a measure of how well predictions fit actual data. It varies between 0 and 1, where 1 indicates a perfect fit and 0 indicates that the model does not explain any variability in the data.\n",
    "\n",
    "- Mean Absolute Error (MAE): Measures the average of the absolute differences between predictions and actual values."
   ]
  },
  {
   "cell_type": "code",
   "execution_count": 6,
   "id": "0e147bbd",
   "metadata": {},
   "outputs": [],
   "source": [
    "regression_models = {\n",
    "    \"RandomForest\": RandomForestRegressor(random_state=42),\n",
    "    \"GradientBoosting\": GradientBoostingRegressor(random_state=42),\n",
    "    \"XGBoost\": xgb.XGBRegressor(random_state=42),\n",
    "    \"Ridge Regression\": Ridge(random_state=42)\n",
    "}"
   ]
  },
  {
   "cell_type": "code",
   "execution_count": 7,
   "id": "057e23fb",
   "metadata": {},
   "outputs": [
    {
     "name": "stdout",
     "output_type": "stream",
     "text": [
      "RandomForest \n",
      "Root Mean Square Error (RMSE): 0.4755 \n",
      "Mean Square Error (MSE): 0.2261 \n",
      "R-squared (R2): 0.7898 \n",
      "Mean Absolute Error (MAE): 0.3236\n",
      "\n",
      "GradientBoosting \n",
      "Root Mean Square Error (RMSE): 0.4510 \n",
      "Mean Square Error (MSE): 0.2034 \n",
      "R-squared (R2): 0.8109 \n",
      "Mean Absolute Error (MAE): 0.3127\n",
      "\n",
      "XGBoost \n",
      "Root Mean Square Error (RMSE): 0.4979 \n",
      "Mean Square Error (MSE): 0.2479 \n",
      "R-squared (R2): 0.7695 \n",
      "Mean Absolute Error (MAE): 0.3347\n",
      "\n",
      "Ridge Regression \n",
      "Root Mean Square Error (RMSE): 0.5392 \n",
      "Mean Square Error (MSE): 0.2908 \n",
      "R-squared (R2): 0.7297 \n",
      "Mean Absolute Error (MAE): 0.4034\n",
      "\n"
     ]
    }
   ],
   "source": [
    "for name, regressor in regression_models.items():\n",
    "    regressor.fit(X_train, y_train)\n",
    "    y_pred = regressor.predict(X_test)\n",
    "    print(f\"{name} \\nRoot Mean Square Error (RMSE): {root_mean_squared_error(y_test, y_pred):.4f} \\nMean Square Error (MSE): {mean_squared_error(y_test, y_pred):.4f} \\nR-squared (R2): {r2_score(y_test, y_pred):.4f} \\nMean Absolute Error (MAE): {mean_absolute_error(y_test, y_pred):.4f}\\n\")"
   ]
  },
  {
   "cell_type": "markdown",
   "id": "bd0585fe",
   "metadata": {},
   "source": [
    "Election of best model:<br>\n",
    "The **GradientBoosting** model shows the best performance across all key metrics, indicating strong predictive power and low error. It captures the variance in the data quite well"
   ]
  },
  {
   "cell_type": "markdown",
   "id": "ebd9f19c",
   "metadata": {},
   "source": [
    "#### Hyperparameter Tuning for GradientBoosting"
   ]
  },
  {
   "cell_type": "code",
   "execution_count": 8,
   "id": "9491b30d",
   "metadata": {},
   "outputs": [],
   "source": [
    "param_grid = {\n",
    "    'n_estimators': [100, 200, 300],\n",
    "    'learning_rate': [0.05, 0.1, 0.2],\n",
    "    'max_depth': [3, 5, 7],\n",
    "    'subsample': [0.8, 1.0]\n",
    "}"
   ]
  },
  {
   "cell_type": "code",
   "execution_count": 9,
   "id": "774f487c",
   "metadata": {},
   "outputs": [
    {
     "name": "stdout",
     "output_type": "stream",
     "text": [
      "Fitting 5 folds for each of 54 candidates, totalling 270 fits\n",
      "Best Parameters: {'learning_rate': 0.1, 'max_depth': 3, 'n_estimators': 300, 'subsample': 0.8}\n"
     ]
    }
   ],
   "source": [
    "grid_search = GridSearchCV(\n",
    "    estimator=GradientBoostingRegressor(random_state=42),\n",
    "    param_grid=param_grid,\n",
    "    cv=5,\n",
    "    scoring='neg_root_mean_squared_error',\n",
    "    n_jobs=-1,\n",
    "    verbose=2\n",
    ")\n",
    "\n",
    "grid_search.fit(X_train, y_train)\n",
    "\n",
    "print(f\"Best Parameters: {grid_search.best_params_}\")\n",
    "best_model = grid_search.best_estimator_"
   ]
  },
  {
   "cell_type": "markdown",
   "id": "534e4770",
   "metadata": {},
   "source": [
    "#### Evaluation of the best model with the validation data"
   ]
  },
  {
   "cell_type": "code",
   "execution_count": 19,
   "id": "767d4f89",
   "metadata": {},
   "outputs": [
    {
     "name": "stdout",
     "output_type": "stream",
     "text": [
      "Root Mean Squared Error: 0.4053\n",
      "Mean Squared Error (MSE): 0.1642\n",
      "R^2 Score: 0.8734\n",
      "Mean Absolute Error (MAE): 0.2707\n"
     ]
    }
   ],
   "source": [
    "y_val_pred_best_model = best_model.predict(X_val)\n",
    "\n",
    "rmse_val_best_model = root_mean_squared_error(y_val, y_val_pred_best_model)\n",
    "mse_val_best_model = mean_squared_error(y_val, y_val_pred_best_model)\n",
    "r2_val_best_model = r2_score(y_val, y_val_pred_best_model)\n",
    "mae_val_best_model = mean_absolute_error(y_val, y_val_pred_best_model)\n",
    "\n",
    "print(f'Root Mean Squared Error: {rmse_val_best_model:.4f}')\n",
    "print(f'Mean Squared Error (MSE): {mse_val_best_model:.4f}')\n",
    "print(f'R^2 Score: {r2_val_best_model:.4f}')\n",
    "print(f'Mean Absolute Error (MAE): {mae_val_best_model:.4f}')"
   ]
  },
  {
   "cell_type": "markdown",
   "id": "02b0e571",
   "metadata": {},
   "source": [
    "#### Evaluation of the best model with the testing data"
   ]
  },
  {
   "cell_type": "code",
   "execution_count": 20,
   "id": "488c59c1",
   "metadata": {},
   "outputs": [
    {
     "name": "stdout",
     "output_type": "stream",
     "text": [
      "Root Mean Squared Error: 0.4671\n",
      "Mean Squared Error (MSE): 0.2181\n",
      "R^2 Score: 0.7972\n",
      "Mean Absolute Error (MAE): 0.3258\n"
     ]
    }
   ],
   "source": [
    "y_test_pred_best_model = best_model.predict(X_test)\n",
    "\n",
    "rmse_test_best_model = root_mean_squared_error(y_test, y_test_pred_best_model)\n",
    "mse_test_best_model = mean_squared_error(y_test, y_test_pred_best_model)\n",
    "r2_test_best_model = r2_score(y_test, y_test_pred_best_model)\n",
    "mae_test_best_model = mean_absolute_error(y_test, y_test_pred_best_model)\n",
    "\n",
    "print(f'Root Mean Squared Error: {rmse_test_best_model:.4f}')\n",
    "print(f'Mean Squared Error (MSE): {mse_test_best_model:.4f}')\n",
    "print(f'R^2 Score: {r2_test_best_model:.4f}')\n",
    "print(f'Mean Absolute Error (MAE): {mae_test_best_model:.4f}')"
   ]
  },
  {
   "cell_type": "markdown",
   "id": "4aea01a9",
   "metadata": {},
   "source": [
    "#### Scatter plot of actual vs. predicted values"
   ]
  },
  {
   "cell_type": "code",
   "execution_count": 18,
   "id": "fe586965",
   "metadata": {},
   "outputs": [
    {
     "data": {
      "image/png": "[encoded data removed]",
      "text/plain": [
       "<Figure size 800x600 with 1 Axes>"
      ]
     },
     "metadata": {},
     "output_type": "display_data"
    }
   ],
   "source": [
    "plt.figure(figsize=(8, 6))\n",
    "plt.scatter(y_test, y_test_pred_best_model, color='blue', marker='o', label='Actual vs. Predicted')\n",
    "plt.plot([min(y_test), max(y_test)], [min(y_test), max(y_test)], color='red', linestyle='--', lw=2, label='Perfect Prediction')\n",
    "plt.xlabel('Actual Values')\n",
    "plt.ylabel('Predicted Values')\n",
    "plt.title('Actual vs. Predicted Values (GradientBoosting) for compressive strength at 28 days')\n",
    "plt.legend()\n",
    "plt.grid(True)\n",
    "plt.show()"
   ]
  }
 ],
 "metadata": {
  "kernelspec": {
   "display_name": ".venv",
   "language": "python",
   "name": "python3"
  },
  "language_info": {
   "codemirror_mode": {
    "name": "ipython",
    "version": 3
   },
   "file_extension": ".py",
   "mimetype": "text/x-python",
   "name": "python",
   "nbconvert_exporter": "python",
   "pygments_lexer": "ipython3",
   "version": "3.11.0"
  }
 },
 "nbformat": 4,
 "nbformat_minor": 5
}
