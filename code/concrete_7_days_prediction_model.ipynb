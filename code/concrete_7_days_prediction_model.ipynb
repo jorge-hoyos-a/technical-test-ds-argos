{
 "cells": [
  {
   "cell_type": "markdown",
   "id": "36e2c275",
   "metadata": {},
   "source": [
    "#### Dependencies"
   ]
  },
  {
   "cell_type": "code",
   "execution_count": 21,
   "id": "c1884558",
   "metadata": {},
   "outputs": [],
   "source": [
    "import pandas as pd\n",
    "import xgboost as xgb\n",
    "import matplotlib.pyplot as plt\n",
    "from sklearn.model_selection import GridSearchCV\n",
    "from sklearn.linear_model import Ridge\n",
    "from sklearn.ensemble import GradientBoostingRegressor\n",
    "from sklearn.ensemble import RandomForestRegressor\n",
    "from sklearn.model_selection import train_test_split\n",
    "from sklearn.metrics import root_mean_squared_error, mean_squared_error, r2_score, mean_absolute_error\n",
    "\n",
    "from config.config_file import PATH_CONCRETE_7_DAYS_SCALED"
   ]
  },
  {
   "cell_type": "markdown",
   "id": "705caaa7",
   "metadata": {},
   "source": [
    "#### Creation of the dataframe for concrete age 7 scaled"
   ]
  },
  {
   "cell_type": "code",
   "execution_count": 6,
   "id": "908feb27",
   "metadata": {},
   "outputs": [
    {
     "data": {
      "text/html": [
       "<div>\n",
       "<style scoped>\n",
       "    .dataframe tbody tr th:only-of-type {\n",
       "        vertical-align: middle;\n",
       "    }\n",
       "\n",
       "    .dataframe tbody tr th {\n",
       "        vertical-align: top;\n",
       "    }\n",
       "\n",
       "    .dataframe thead th {\n",
       "        text-align: right;\n",
       "    }\n",
       "</style>\n",
       "<table border=\"1\" class=\"dataframe\">\n",
       "  <thead>\n",
       "    <tr style=\"text-align: right;\">\n",
       "      <th></th>\n",
       "      <th>cement_kg</th>\n",
       "      <th>scm1_kg</th>\n",
       "      <th>scm2_kg</th>\n",
       "      <th>water_kg</th>\n",
       "      <th>additive_kg</th>\n",
       "      <th>aggregate_coarse_kg</th>\n",
       "      <th>aggregate_fine_kg</th>\n",
       "      <th>age_days</th>\n",
       "      <th>compressive_strength_mpa</th>\n",
       "    </tr>\n",
       "  </thead>\n",
       "  <tbody>\n",
       "    <tr>\n",
       "      <th>0</th>\n",
       "      <td>1.554254</td>\n",
       "      <td>-0.930189</td>\n",
       "      <td>-0.344479</td>\n",
       "      <td>2.392899</td>\n",
       "      <td>-0.561856</td>\n",
       "      <td>-0.639401</td>\n",
       "      <td>-2.137353</td>\n",
       "      <td>0.0</td>\n",
       "      <td>0.864233</td>\n",
       "    </tr>\n",
       "    <tr>\n",
       "      <th>1</th>\n",
       "      <td>1.098746</td>\n",
       "      <td>-0.454804</td>\n",
       "      <td>-0.344479</td>\n",
       "      <td>2.392899</td>\n",
       "      <td>-0.561856</td>\n",
       "      <td>-0.639401</td>\n",
       "      <td>-2.137353</td>\n",
       "      <td>0.0</td>\n",
       "      <td>0.621388</td>\n",
       "    </tr>\n",
       "    <tr>\n",
       "      <th>2</th>\n",
       "      <td>-0.723288</td>\n",
       "      <td>1.446734</td>\n",
       "      <td>-0.344479</td>\n",
       "      <td>2.392899</td>\n",
       "      <td>-0.561856</td>\n",
       "      <td>-0.639401</td>\n",
       "      <td>-2.137353</td>\n",
       "      <td>0.0</td>\n",
       "      <td>0.014277</td>\n",
       "    </tr>\n",
       "    <tr>\n",
       "      <th>3</th>\n",
       "      <td>0.643237</td>\n",
       "      <td>0.020580</td>\n",
       "      <td>-0.344479</td>\n",
       "      <td>2.392899</td>\n",
       "      <td>-0.561856</td>\n",
       "      <td>-0.639401</td>\n",
       "      <td>-2.137353</td>\n",
       "      <td>0.0</td>\n",
       "      <td>0.466264</td>\n",
       "    </tr>\n",
       "    <tr>\n",
       "      <th>4</th>\n",
       "      <td>-1.662115</td>\n",
       "      <td>1.165506</td>\n",
       "      <td>-0.344479</td>\n",
       "      <td>0.466279</td>\n",
       "      <td>-0.561856</td>\n",
       "      <td>0.779727</td>\n",
       "      <td>0.476284</td>\n",
       "      <td>0.0</td>\n",
       "      <td>-0.789065</td>\n",
       "    </tr>\n",
       "    <tr>\n",
       "      <th>...</th>\n",
       "      <td>...</td>\n",
       "      <td>...</td>\n",
       "      <td>...</td>\n",
       "      <td>...</td>\n",
       "      <td>...</td>\n",
       "      <td>...</td>\n",
       "      <td>...</td>\n",
       "      <td>...</td>\n",
       "      <td>...</td>\n",
       "    </tr>\n",
       "    <tr>\n",
       "      <th>121</th>\n",
       "      <td>0.662417</td>\n",
       "      <td>-0.930189</td>\n",
       "      <td>-0.344479</td>\n",
       "      <td>0.091659</td>\n",
       "      <td>-0.561856</td>\n",
       "      <td>0.779727</td>\n",
       "      <td>-0.357281</td>\n",
       "      <td>0.0</td>\n",
       "      <td>-0.141132</td>\n",
       "    </tr>\n",
       "    <tr>\n",
       "      <th>122</th>\n",
       "      <td>-0.584238</td>\n",
       "      <td>-0.930189</td>\n",
       "      <td>-0.344479</td>\n",
       "      <td>0.145176</td>\n",
       "      <td>-0.561856</td>\n",
       "      <td>1.569503</td>\n",
       "      <td>0.195155</td>\n",
       "      <td>0.0</td>\n",
       "      <td>-1.004093</td>\n",
       "    </tr>\n",
       "    <tr>\n",
       "      <th>123</th>\n",
       "      <td>-0.028038</td>\n",
       "      <td>-0.930189</td>\n",
       "      <td>-0.344479</td>\n",
       "      <td>0.466279</td>\n",
       "      <td>-0.561856</td>\n",
       "      <td>-0.170472</td>\n",
       "      <td>1.005395</td>\n",
       "      <td>0.0</td>\n",
       "      <td>-0.761534</td>\n",
       "    </tr>\n",
       "    <tr>\n",
       "      <th>124</th>\n",
       "      <td>2.033737</td>\n",
       "      <td>-0.930189</td>\n",
       "      <td>-0.344479</td>\n",
       "      <td>0.305728</td>\n",
       "      <td>-0.561856</td>\n",
       "      <td>1.742266</td>\n",
       "      <td>-1.904102</td>\n",
       "      <td>0.0</td>\n",
       "      <td>1.127203</td>\n",
       "    </tr>\n",
       "    <tr>\n",
       "      <th>125</th>\n",
       "      <td>2.004968</td>\n",
       "      <td>-0.930189</td>\n",
       "      <td>-0.344479</td>\n",
       "      <td>-1.995512</td>\n",
       "      <td>-0.561856</td>\n",
       "      <td>-1.083650</td>\n",
       "      <td>1.570107</td>\n",
       "      <td>0.0</td>\n",
       "      <td>1.683999</td>\n",
       "    </tr>\n",
       "  </tbody>\n",
       "</table>\n",
       "<p>122 rows × 9 columns</p>\n",
       "</div>"
      ],
      "text/plain": [
       "     cement_kg   scm1_kg   scm2_kg  water_kg  additive_kg  \\\n",
       "0     1.554254 -0.930189 -0.344479  2.392899    -0.561856   \n",
       "1     1.098746 -0.454804 -0.344479  2.392899    -0.561856   \n",
       "2    -0.723288  1.446734 -0.344479  2.392899    -0.561856   \n",
       "3     0.643237  0.020580 -0.344479  2.392899    -0.561856   \n",
       "4    -1.662115  1.165506 -0.344479  0.466279    -0.561856   \n",
       "..         ...       ...       ...       ...          ...   \n",
       "121   0.662417 -0.930189 -0.344479  0.091659    -0.561856   \n",
       "122  -0.584238 -0.930189 -0.344479  0.145176    -0.561856   \n",
       "123  -0.028038 -0.930189 -0.344479  0.466279    -0.561856   \n",
       "124   2.033737 -0.930189 -0.344479  0.305728    -0.561856   \n",
       "125   2.004968 -0.930189 -0.344479 -1.995512    -0.561856   \n",
       "\n",
       "     aggregate_coarse_kg  aggregate_fine_kg  age_days  \\\n",
       "0              -0.639401          -2.137353       0.0   \n",
       "1              -0.639401          -2.137353       0.0   \n",
       "2              -0.639401          -2.137353       0.0   \n",
       "3              -0.639401          -2.137353       0.0   \n",
       "4               0.779727           0.476284       0.0   \n",
       "..                   ...                ...       ...   \n",
       "121             0.779727          -0.357281       0.0   \n",
       "122             1.569503           0.195155       0.0   \n",
       "123            -0.170472           1.005395       0.0   \n",
       "124             1.742266          -1.904102       0.0   \n",
       "125            -1.083650           1.570107       0.0   \n",
       "\n",
       "     compressive_strength_mpa  \n",
       "0                    0.864233  \n",
       "1                    0.621388  \n",
       "2                    0.014277  \n",
       "3                    0.466264  \n",
       "4                   -0.789065  \n",
       "..                        ...  \n",
       "121                 -0.141132  \n",
       "122                 -1.004093  \n",
       "123                 -0.761534  \n",
       "124                  1.127203  \n",
       "125                  1.683999  \n",
       "\n",
       "[122 rows x 9 columns]"
      ]
     },
     "execution_count": 6,
     "metadata": {},
     "output_type": "execute_result"
    }
   ],
   "source": [
    "df_7_days_scaled = pd.read_csv(PATH_CONCRETE_7_DAYS_SCALED, sep=',', index_col=0)\n",
    "df_7_days_scaled"
   ]
  },
  {
   "cell_type": "markdown",
   "id": "62251f5f",
   "metadata": {},
   "source": [
    "Drop the column \"age_days\" that is not longer useful"
   ]
  },
  {
   "cell_type": "code",
   "execution_count": 7,
   "id": "65b8a53e",
   "metadata": {},
   "outputs": [
    {
     "data": {
      "text/html": [
       "<div>\n",
       "<style scoped>\n",
       "    .dataframe tbody tr th:only-of-type {\n",
       "        vertical-align: middle;\n",
       "    }\n",
       "\n",
       "    .dataframe tbody tr th {\n",
       "        vertical-align: top;\n",
       "    }\n",
       "\n",
       "    .dataframe thead th {\n",
       "        text-align: right;\n",
       "    }\n",
       "</style>\n",
       "<table border=\"1\" class=\"dataframe\">\n",
       "  <thead>\n",
       "    <tr style=\"text-align: right;\">\n",
       "      <th></th>\n",
       "      <th>cement_kg</th>\n",
       "      <th>scm1_kg</th>\n",
       "      <th>scm2_kg</th>\n",
       "      <th>water_kg</th>\n",
       "      <th>additive_kg</th>\n",
       "      <th>aggregate_coarse_kg</th>\n",
       "      <th>aggregate_fine_kg</th>\n",
       "      <th>compressive_strength_mpa</th>\n",
       "    </tr>\n",
       "  </thead>\n",
       "  <tbody>\n",
       "    <tr>\n",
       "      <th>0</th>\n",
       "      <td>1.554254</td>\n",
       "      <td>-0.930189</td>\n",
       "      <td>-0.344479</td>\n",
       "      <td>2.392899</td>\n",
       "      <td>-0.561856</td>\n",
       "      <td>-0.639401</td>\n",
       "      <td>-2.137353</td>\n",
       "      <td>0.864233</td>\n",
       "    </tr>\n",
       "    <tr>\n",
       "      <th>1</th>\n",
       "      <td>1.098746</td>\n",
       "      <td>-0.454804</td>\n",
       "      <td>-0.344479</td>\n",
       "      <td>2.392899</td>\n",
       "      <td>-0.561856</td>\n",
       "      <td>-0.639401</td>\n",
       "      <td>-2.137353</td>\n",
       "      <td>0.621388</td>\n",
       "    </tr>\n",
       "    <tr>\n",
       "      <th>2</th>\n",
       "      <td>-0.723288</td>\n",
       "      <td>1.446734</td>\n",
       "      <td>-0.344479</td>\n",
       "      <td>2.392899</td>\n",
       "      <td>-0.561856</td>\n",
       "      <td>-0.639401</td>\n",
       "      <td>-2.137353</td>\n",
       "      <td>0.014277</td>\n",
       "    </tr>\n",
       "    <tr>\n",
       "      <th>3</th>\n",
       "      <td>0.643237</td>\n",
       "      <td>0.020580</td>\n",
       "      <td>-0.344479</td>\n",
       "      <td>2.392899</td>\n",
       "      <td>-0.561856</td>\n",
       "      <td>-0.639401</td>\n",
       "      <td>-2.137353</td>\n",
       "      <td>0.466264</td>\n",
       "    </tr>\n",
       "    <tr>\n",
       "      <th>4</th>\n",
       "      <td>-1.662115</td>\n",
       "      <td>1.165506</td>\n",
       "      <td>-0.344479</td>\n",
       "      <td>0.466279</td>\n",
       "      <td>-0.561856</td>\n",
       "      <td>0.779727</td>\n",
       "      <td>0.476284</td>\n",
       "      <td>-0.789065</td>\n",
       "    </tr>\n",
       "    <tr>\n",
       "      <th>...</th>\n",
       "      <td>...</td>\n",
       "      <td>...</td>\n",
       "      <td>...</td>\n",
       "      <td>...</td>\n",
       "      <td>...</td>\n",
       "      <td>...</td>\n",
       "      <td>...</td>\n",
       "      <td>...</td>\n",
       "    </tr>\n",
       "    <tr>\n",
       "      <th>121</th>\n",
       "      <td>0.662417</td>\n",
       "      <td>-0.930189</td>\n",
       "      <td>-0.344479</td>\n",
       "      <td>0.091659</td>\n",
       "      <td>-0.561856</td>\n",
       "      <td>0.779727</td>\n",
       "      <td>-0.357281</td>\n",
       "      <td>-0.141132</td>\n",
       "    </tr>\n",
       "    <tr>\n",
       "      <th>122</th>\n",
       "      <td>-0.584238</td>\n",
       "      <td>-0.930189</td>\n",
       "      <td>-0.344479</td>\n",
       "      <td>0.145176</td>\n",
       "      <td>-0.561856</td>\n",
       "      <td>1.569503</td>\n",
       "      <td>0.195155</td>\n",
       "      <td>-1.004093</td>\n",
       "    </tr>\n",
       "    <tr>\n",
       "      <th>123</th>\n",
       "      <td>-0.028038</td>\n",
       "      <td>-0.930189</td>\n",
       "      <td>-0.344479</td>\n",
       "      <td>0.466279</td>\n",
       "      <td>-0.561856</td>\n",
       "      <td>-0.170472</td>\n",
       "      <td>1.005395</td>\n",
       "      <td>-0.761534</td>\n",
       "    </tr>\n",
       "    <tr>\n",
       "      <th>124</th>\n",
       "      <td>2.033737</td>\n",
       "      <td>-0.930189</td>\n",
       "      <td>-0.344479</td>\n",
       "      <td>0.305728</td>\n",
       "      <td>-0.561856</td>\n",
       "      <td>1.742266</td>\n",
       "      <td>-1.904102</td>\n",
       "      <td>1.127203</td>\n",
       "    </tr>\n",
       "    <tr>\n",
       "      <th>125</th>\n",
       "      <td>2.004968</td>\n",
       "      <td>-0.930189</td>\n",
       "      <td>-0.344479</td>\n",
       "      <td>-1.995512</td>\n",
       "      <td>-0.561856</td>\n",
       "      <td>-1.083650</td>\n",
       "      <td>1.570107</td>\n",
       "      <td>1.683999</td>\n",
       "    </tr>\n",
       "  </tbody>\n",
       "</table>\n",
       "<p>122 rows × 8 columns</p>\n",
       "</div>"
      ],
      "text/plain": [
       "     cement_kg   scm1_kg   scm2_kg  water_kg  additive_kg  \\\n",
       "0     1.554254 -0.930189 -0.344479  2.392899    -0.561856   \n",
       "1     1.098746 -0.454804 -0.344479  2.392899    -0.561856   \n",
       "2    -0.723288  1.446734 -0.344479  2.392899    -0.561856   \n",
       "3     0.643237  0.020580 -0.344479  2.392899    -0.561856   \n",
       "4    -1.662115  1.165506 -0.344479  0.466279    -0.561856   \n",
       "..         ...       ...       ...       ...          ...   \n",
       "121   0.662417 -0.930189 -0.344479  0.091659    -0.561856   \n",
       "122  -0.584238 -0.930189 -0.344479  0.145176    -0.561856   \n",
       "123  -0.028038 -0.930189 -0.344479  0.466279    -0.561856   \n",
       "124   2.033737 -0.930189 -0.344479  0.305728    -0.561856   \n",
       "125   2.004968 -0.930189 -0.344479 -1.995512    -0.561856   \n",
       "\n",
       "     aggregate_coarse_kg  aggregate_fine_kg  compressive_strength_mpa  \n",
       "0              -0.639401          -2.137353                  0.864233  \n",
       "1              -0.639401          -2.137353                  0.621388  \n",
       "2              -0.639401          -2.137353                  0.014277  \n",
       "3              -0.639401          -2.137353                  0.466264  \n",
       "4               0.779727           0.476284                 -0.789065  \n",
       "..                   ...                ...                       ...  \n",
       "121             0.779727          -0.357281                 -0.141132  \n",
       "122             1.569503           0.195155                 -1.004093  \n",
       "123            -0.170472           1.005395                 -0.761534  \n",
       "124             1.742266          -1.904102                  1.127203  \n",
       "125            -1.083650           1.570107                  1.683999  \n",
       "\n",
       "[122 rows x 8 columns]"
      ]
     },
     "execution_count": 7,
     "metadata": {},
     "output_type": "execute_result"
    }
   ],
   "source": [
    "df_7_days_scaled = df_7_days_scaled.drop(labels='age_days', axis=1)\n",
    "df_7_days_scaled"
   ]
  },
  {
   "cell_type": "markdown",
   "id": "0d3eef14",
   "metadata": {},
   "source": [
    "#### Separation of the dataframe into training, validation, and test"
   ]
  },
  {
   "cell_type": "code",
   "execution_count": 8,
   "id": "5e199b8d",
   "metadata": {},
   "outputs": [],
   "source": [
    "X = df_7_days_scaled.drop(labels='compressive_strength_mpa', axis=1)\n",
    "y = df_7_days_scaled['compressive_strength_mpa']\n",
    "\n",
    "X_train, X_temp, y_train, y_temp = train_test_split(X, y, train_size=0.7, random_state=42)\n",
    "X_val, X_test, y_val, y_test = train_test_split(X_temp, y_temp, test_size=0.5, random_state=42)"
   ]
  },
  {
   "cell_type": "code",
   "execution_count": 10,
   "id": "9acfc912",
   "metadata": {},
   "outputs": [
    {
     "name": "stdout",
     "output_type": "stream",
     "text": [
      "Dimensions of training dataset  (X_train: (85, 7), y_train: (85,))\n",
      "Dimensions of testing dataset (X_test: (19, 7), y_test: (19,))\n",
      "Dimensions of validation dataset (X_val: (18, 7), y_val: (18,))\n"
     ]
    }
   ],
   "source": [
    "print(f\"Dimensions of training dataset  (X_train: {X_train.shape}, y_train: {y_train.shape})\")\n",
    "print(f\"Dimensions of testing dataset (X_test: {X_test.shape}, y_test: {y_test.shape})\")\n",
    "print(f\"Dimensions of validation dataset (X_val: {X_val.shape}, y_val: {y_val.shape})\")"
   ]
  },
  {
   "cell_type": "markdown",
   "id": "5206a623",
   "metadata": {},
   "source": [
    "#### **Models for regression**\n",
    "\n",
    "- Random Forest\n",
    "- SVR\n",
    "- XGBoost\n",
    "- Ridge\n",
    "- Lasso\n"
   ]
  },
  {
   "cell_type": "markdown",
   "id": "4f6b2a9b",
   "metadata": {},
   "source": [
    "### Evaluating models' performance using metrics"
   ]
  },
  {
   "cell_type": "markdown",
   "id": "95d29c44",
   "metadata": {},
   "source": [
    "#### Metrics\n",
    "- Root Mean Squared Error (RMSE): It is the square root of the Mean Squared Error. RMSE provides an error measure in the same units as the target variable, making it more interpretable than MSE. It penalizes larger errors more strongly due to the squaring step before averaging.\n",
    "\n",
    "- Mean Squared Error (MSE): It measures the mean squared errors, that is, the average squared difference between the estimated values ​​and the actual values.\n",
    "\n",
    "- R-squared (R2): Also known as coefficient of determination. It provides a measure of how well predictions fit actual data. It varies between 0 and 1, where 1 indicates a perfect fit and 0 indicates that the model does not explain any variability in the data.\n",
    "\n",
    "- Mean Absolute Error (MAE): Measures the average of the absolute differences between predictions and actual values."
   ]
  },
  {
   "cell_type": "code",
   "execution_count": 22,
   "id": "0e147bbd",
   "metadata": {},
   "outputs": [],
   "source": [
    "regression_models = {\n",
    "    \"RandomForest\": RandomForestRegressor(random_state=42),\n",
    "    \"GradientBoosting\": GradientBoostingRegressor(random_state=42),\n",
    "    \"XGBoost\": xgb.XGBRegressor(random_state=42),\n",
    "    \"Ridge Regression\": Ridge(random_state=42)\n",
    "}"
   ]
  },
  {
   "cell_type": "code",
   "execution_count": 23,
   "id": "057e23fb",
   "metadata": {},
   "outputs": [
    {
     "name": "stdout",
     "output_type": "stream",
     "text": [
      "RandomForest \n",
      "Root Mean Square Error (RMSE): 0.4411 \n",
      "Mean Square Error (MSE): 0.1946 \n",
      "R-squared (R2): 0.8128 \n",
      "Mean Absolute Error (MAE): 0.3014\n",
      "\n",
      "GradientBoosting \n",
      "Root Mean Square Error (RMSE): 0.4699 \n",
      "Mean Square Error (MSE): 0.2208 \n",
      "R-squared (R2): 0.7875 \n",
      "Mean Absolute Error (MAE): 0.3363\n",
      "\n",
      "XGBoost \n",
      "Root Mean Square Error (RMSE): 0.4725 \n",
      "Mean Square Error (MSE): 0.2233 \n",
      "R-squared (R2): 0.7851 \n",
      "Mean Absolute Error (MAE): 0.3594\n",
      "\n",
      "Ridge Regression \n",
      "Root Mean Square Error (RMSE): 0.5284 \n",
      "Mean Square Error (MSE): 0.2792 \n",
      "R-squared (R2): 0.7313 \n",
      "Mean Absolute Error (MAE): 0.3880\n",
      "\n"
     ]
    }
   ],
   "source": [
    "for name, regressor in regression_models.items():\n",
    "    regressor.fit(X_train, y_train)\n",
    "    y_pred = regressor.predict(X_test)\n",
    "    print(f\"{name} \\nRoot Mean Square Error (RMSE): {root_mean_squared_error(y_test, y_pred):.4f} \\nMean Square Error (MSE): {mean_squared_error(y_test, y_pred):.4f} \\nR-squared (R2): {r2_score(y_test, y_pred):.4f} \\nMean Absolute Error (MAE): {mean_absolute_error(y_test, y_pred):.4f}\\n\")"
   ]
  },
  {
   "cell_type": "markdown",
   "id": "bd0585fe",
   "metadata": {},
   "source": [
    "Election of best model:<br>\n",
    "The **RandomForest** model shows the best performance across all key metrics, indicating strong predictive power and low error. It captures the variance in the data quite well"
   ]
  },
  {
   "cell_type": "markdown",
   "id": "ebd9f19c",
   "metadata": {},
   "source": [
    "#### Hyperparameter Tuning for RandomForest"
   ]
  },
  {
   "cell_type": "code",
   "execution_count": 26,
   "id": "9491b30d",
   "metadata": {},
   "outputs": [],
   "source": [
    "param_grid = {\n",
    "    'n_estimators': [100, 200, 300],\n",
    "    'max_depth': [None, 10, 20],\n",
    "    'min_samples_split': [2, 5, 10]\n",
    "}"
   ]
  },
  {
   "cell_type": "code",
   "execution_count": 27,
   "id": "774f487c",
   "metadata": {},
   "outputs": [
    {
     "name": "stdout",
     "output_type": "stream",
     "text": [
      "Fitting 5 folds for each of 27 candidates, totalling 135 fits\n",
      "Best Parameters: {'max_depth': 10, 'min_samples_split': 2, 'n_estimators': 300}\n"
     ]
    }
   ],
   "source": [
    "grid_search = GridSearchCV(\n",
    "    estimator=RandomForestRegressor(random_state=42),\n",
    "    param_grid=param_grid,\n",
    "    cv=5,\n",
    "    scoring='neg_root_mean_squared_error',\n",
    "    n_jobs=-1,\n",
    "    verbose=2\n",
    ")\n",
    "\n",
    "grid_search.fit(X_train, y_train)\n",
    "\n",
    "print(f\"Best Parameters: {grid_search.best_params_}\")\n",
    "best_model = grid_search.best_estimator_"
   ]
  },
  {
   "cell_type": "markdown",
   "id": "534e4770",
   "metadata": {},
   "source": [
    "#### Evaluation of the best model with the validation data"
   ]
  },
  {
   "cell_type": "code",
   "execution_count": 40,
   "id": "767d4f89",
   "metadata": {},
   "outputs": [
    {
     "name": "stdout",
     "output_type": "stream",
     "text": [
      "Root Mean Squared Error: 0.5566\n",
      "Mean Squared Error (MSE): 0.3098\n",
      "R^2 Score: 0.6966\n",
      "Mean Absolute Error (MAE): 0.3481\n"
     ]
    }
   ],
   "source": [
    "y_val_pred_best_model = best_model.predict(X_val)\n",
    "\n",
    "rmse_val_best_model = root_mean_squared_error(y_val, y_val_pred_best_model)\n",
    "mse_val_best_model = mean_squared_error(y_val, y_val_pred_best_model)\n",
    "r2_val_best_model = r2_score(y_val, y_val_pred_best_model)\n",
    "mae_val_best_model = mean_absolute_error(y_val, y_val_pred_best_model)\n",
    "\n",
    "print(f'Root Mean Squared Error: {rmse_val_best_model:.4f}')\n",
    "print(f'Mean Squared Error (MSE): {mse_val_best_model:.4f}')\n",
    "print(f'R^2 Score: {r2_val_best_model:.4f}')\n",
    "print(f'Mean Absolute Error (MAE): {mae_val_best_model:.4f}')"
   ]
  },
  {
   "cell_type": "markdown",
   "id": "02b0e571",
   "metadata": {},
   "source": [
    "#### Evaluation of the best model with the testing data"
   ]
  },
  {
   "cell_type": "code",
   "execution_count": 41,
   "id": "488c59c1",
   "metadata": {},
   "outputs": [
    {
     "name": "stdout",
     "output_type": "stream",
     "text": [
      "Root Mean Squared Error: 0.4398\n",
      "Mean Squared Error (MSE): 0.1934\n",
      "R^2 Score: 0.8139\n",
      "Mean Absolute Error (MAE): 0.2949\n"
     ]
    }
   ],
   "source": [
    "y_test_pred_best_model = best_model.predict(X_test)\n",
    "\n",
    "rmse_test_best_model = root_mean_squared_error(y_test, y_test_pred_best_model)\n",
    "mse_test_best_model = mean_squared_error(y_test, y_test_pred_best_model)\n",
    "r2_test_best_model = r2_score(y_test, y_test_pred_best_model)\n",
    "mae_test_best_model = mean_absolute_error(y_test, y_test_pred_best_model)\n",
    "\n",
    "print(f'Root Mean Squared Error: {rmse_test_best_model:.4f}')\n",
    "print(f'Mean Squared Error (MSE): {mse_test_best_model:.4f}')\n",
    "print(f'R^2 Score: {r2_test_best_model:.4f}')\n",
    "print(f'Mean Absolute Error (MAE): {mae_test_best_model:.4f}')"
   ]
  },
  {
   "cell_type": "markdown",
   "id": "4aea01a9",
   "metadata": {},
   "source": [
    "#### Scatter plot of actual vs. predicted values"
   ]
  },
  {
   "cell_type": "code",
   "execution_count": 37,
   "id": "fe586965",
   "metadata": {},
   "outputs": [
    {
     "data": {
      "image/png": "[encoded data removed]",
      "text/plain": [
       "<Figure size 800x600 with 1 Axes>"
      ]
     },
     "metadata": {},
     "output_type": "display_data"
    }
   ],
   "source": [
    "plt.figure(figsize=(8, 6))\n",
    "plt.scatter(y_test, y_test_pred_best_model, color='blue', marker='o', label='Actual vs. Predicted')\n",
    "plt.plot([min(y_test), max(y_test)], [min(y_test), max(y_test)], color='red', linestyle='--', lw=2, label='Perfect Prediction')\n",
    "plt.xlabel('Actual Values')\n",
    "plt.ylabel('Predicted Values')\n",
    "plt.title('Actual vs. Predicted Values (RandomForest) for compressive strength at 7 days')\n",
    "plt.legend()\n",
    "plt.grid(True)\n",
    "plt.show()"
   ]
  }
 ],
 "metadata": {
  "kernelspec": {
   "display_name": ".venv",
   "language": "python",
   "name": "python3"
  },
  "language_info": {
   "codemirror_mode": {
    "name": "ipython",
    "version": 3
   },
   "file_extension": ".py",
   "mimetype": "text/x-python",
   "name": "python",
   "nbconvert_exporter": "python",
   "pygments_lexer": "ipython3",
   "version": "3.11.0"
  }
 },
 "nbformat": 4,
 "nbformat_minor": 5
}
